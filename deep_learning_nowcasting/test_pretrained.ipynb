{
 "cells": [
  {
   "cell_type": "code",
   "execution_count": 11,
   "metadata": {},
   "outputs": [
    {
     "name": "stdout",
     "output_type": "stream",
     "text": [
      "Defaulting to user installation because normal site-packages is not writeable\n",
      "Requirement already satisfied: numpy in /Users/mitty/Library/Python/3.9/lib/python/site-packages (1.24.3)\n"
     ]
    }
   ],
   "source": [
    "! pip3 install numpy"
   ]
  },
  {
   "cell_type": "code",
   "execution_count": 3,
   "metadata": {},
   "outputs": [],
   "source": [
    "import numpy as np\n",
    "import mxnet as mx\n",
    "import mxnet.gluon as gluon"
   ]
  },
  {
   "cell_type": "code",
   "execution_count": 10,
   "metadata": {},
   "outputs": [
    {
     "name": "stderr",
     "output_type": "stream",
     "text": [
      "[06:39:51] src/nnvm/legacy_json_util.cc:209: Loading symbol saved by previous version v0.12.1. Attempting to upgrade...\n",
      "[06:39:51] src/nnvm/legacy_json_util.cc:217: Symbol successfully upgraded!\n",
      "/home/ubuntu/nowcasting/lib/python3.7/site-packages/mxnet/gluon/block.py:1159: UserWarning: Cannot decide type for the following arguments. Consider providing them as input:\n",
      "\tdata: None\n",
      "  input_sym_arg_type = in_param.infer_type()[0]\n"
     ]
    },
    {
     "ename": "AssertionError",
     "evalue": "Parameter 'ebrnn1_begin_state_h' is missing in file '/home/ubuntu/gitrepo/CS230_Nowcasting/deep_learning_nowcasting/pretrained_model/encoder_net-99999.params', which contains parameters: 'econv1_weight', 'econv1_bias', 'ebrnn1_0_i2h_weight', ..., 'ebrnn3_0_f_out_weight', 'ebrnn3_0_f_out_bias', 'ebrnn3_0_h2h_weight', 'ebrnn3_0_h2h_bias'. Please make sure source and target networks have the same prefix.",
     "output_type": "error",
     "traceback": [
      "\u001b[0;31m---------------------------------------------------------------------------\u001b[0m",
      "\u001b[0;31mAssertionError\u001b[0m                            Traceback (most recent call last)",
      "\u001b[0;32m/tmp/ipykernel_7565/909130753.py\u001b[0m in \u001b[0;36m<module>\u001b[0;34m\u001b[0m\n\u001b[1;32m      5\u001b[0m \u001b[0;34m\u001b[0m\u001b[0m\n\u001b[1;32m      6\u001b[0m \u001b[0;31m# Step 1: Load the pre-trained model\u001b[0m\u001b[0;34m\u001b[0m\u001b[0;34m\u001b[0m\u001b[0;34m\u001b[0m\u001b[0m\n\u001b[0;32m----> 7\u001b[0;31m \u001b[0mencoder\u001b[0m \u001b[0;34m=\u001b[0m \u001b[0mgluon\u001b[0m\u001b[0;34m.\u001b[0m\u001b[0mSymbolBlock\u001b[0m\u001b[0;34m.\u001b[0m\u001b[0mimports\u001b[0m\u001b[0;34m(\u001b[0m\u001b[0mencoder_symbol\u001b[0m\u001b[0;34m,\u001b[0m \u001b[0;34m[\u001b[0m\u001b[0;34m'data'\u001b[0m\u001b[0;34m]\u001b[0m\u001b[0;34m,\u001b[0m \u001b[0mencoder_param\u001b[0m\u001b[0;34m)\u001b[0m\u001b[0;34m\u001b[0m\u001b[0;34m\u001b[0m\u001b[0m\n\u001b[0m\u001b[1;32m      8\u001b[0m \u001b[0mforecaster\u001b[0m \u001b[0;34m=\u001b[0m \u001b[0mgluon\u001b[0m\u001b[0;34m.\u001b[0m\u001b[0mSymbolBlock\u001b[0m\u001b[0;34m.\u001b[0m\u001b[0mimports\u001b[0m\u001b[0;34m(\u001b[0m\u001b[0mforecaster_symbol\u001b[0m\u001b[0;34m,\u001b[0m \u001b[0;34m[\u001b[0m\u001b[0;34m'data'\u001b[0m\u001b[0;34m]\u001b[0m\u001b[0;34m,\u001b[0m \u001b[0mforecaster_param\u001b[0m\u001b[0;34m)\u001b[0m\u001b[0;34m\u001b[0m\u001b[0;34m\u001b[0m\u001b[0m\n",
      "\u001b[0;32m~/nowcasting/lib/python3.7/site-packages/mxnet/gluon/block.py\u001b[0m in \u001b[0;36mimports\u001b[0;34m(symbol_file, input_names, param_file, ctx)\u001b[0m\n\u001b[1;32m   1035\u001b[0m         \u001b[0mret\u001b[0m \u001b[0;34m=\u001b[0m \u001b[0mSymbolBlock\u001b[0m\u001b[0;34m(\u001b[0m\u001b[0msym\u001b[0m\u001b[0;34m,\u001b[0m \u001b[0minputs\u001b[0m\u001b[0;34m)\u001b[0m\u001b[0;34m\u001b[0m\u001b[0;34m\u001b[0m\u001b[0m\n\u001b[1;32m   1036\u001b[0m         \u001b[0;32mif\u001b[0m \u001b[0mparam_file\u001b[0m \u001b[0;32mis\u001b[0m \u001b[0;32mnot\u001b[0m \u001b[0;32mNone\u001b[0m\u001b[0;34m:\u001b[0m\u001b[0;34m\u001b[0m\u001b[0;34m\u001b[0m\u001b[0m\n\u001b[0;32m-> 1037\u001b[0;31m             \u001b[0mret\u001b[0m\u001b[0;34m.\u001b[0m\u001b[0mcollect_params\u001b[0m\u001b[0;34m(\u001b[0m\u001b[0;34m)\u001b[0m\u001b[0;34m.\u001b[0m\u001b[0mload\u001b[0m\u001b[0;34m(\u001b[0m\u001b[0mparam_file\u001b[0m\u001b[0;34m,\u001b[0m \u001b[0mctx\u001b[0m\u001b[0;34m=\u001b[0m\u001b[0mctx\u001b[0m\u001b[0;34m,\u001b[0m \u001b[0mcast_dtype\u001b[0m\u001b[0;34m=\u001b[0m\u001b[0;32mTrue\u001b[0m\u001b[0;34m,\u001b[0m \u001b[0mdtype_source\u001b[0m\u001b[0;34m=\u001b[0m\u001b[0;34m'saved'\u001b[0m\u001b[0;34m)\u001b[0m\u001b[0;34m\u001b[0m\u001b[0;34m\u001b[0m\u001b[0m\n\u001b[0m\u001b[1;32m   1038\u001b[0m         \u001b[0;32mreturn\u001b[0m \u001b[0mret\u001b[0m\u001b[0;34m\u001b[0m\u001b[0;34m\u001b[0m\u001b[0m\n\u001b[1;32m   1039\u001b[0m \u001b[0;34m\u001b[0m\u001b[0m\n",
      "\u001b[0;32m~/nowcasting/lib/python3.7/site-packages/mxnet/gluon/parameter.py\u001b[0m in \u001b[0;36mload\u001b[0;34m(self, filename, ctx, allow_missing, ignore_extra, restore_prefix, cast_dtype, dtype_source)\u001b[0m\n\u001b[1;32m    966\u001b[0m                     \u001b[0;34m\"Parameter '%s' is missing in file '%s', which contains parameters: %s. \"\u001b[0m\u001b[0;31m \u001b[0m\u001b[0;31m\\\u001b[0m\u001b[0;34m\u001b[0m\u001b[0;34m\u001b[0m\u001b[0m\n\u001b[1;32m    967\u001b[0m                     \"Please make sure source and target networks have the same prefix.\"%(\n\u001b[0;32m--> 968\u001b[0;31m                         name[lprefix:], filename, _brief_print_list(arg_dict.keys()))\n\u001b[0m\u001b[1;32m    969\u001b[0m         \u001b[0;32mfor\u001b[0m \u001b[0mname\u001b[0m \u001b[0;32min\u001b[0m \u001b[0marg_dict\u001b[0m\u001b[0;34m:\u001b[0m\u001b[0;34m\u001b[0m\u001b[0;34m\u001b[0m\u001b[0m\n\u001b[1;32m    970\u001b[0m             \u001b[0;32mif\u001b[0m \u001b[0mname\u001b[0m \u001b[0;32mnot\u001b[0m \u001b[0;32min\u001b[0m \u001b[0mself\u001b[0m\u001b[0;34m.\u001b[0m\u001b[0m_params\u001b[0m\u001b[0;34m:\u001b[0m\u001b[0;34m\u001b[0m\u001b[0;34m\u001b[0m\u001b[0m\n",
      "\u001b[0;31mAssertionError\u001b[0m: Parameter 'ebrnn1_begin_state_h' is missing in file '/home/ubuntu/gitrepo/CS230_Nowcasting/deep_learning_nowcasting/pretrained_model/encoder_net-99999.params', which contains parameters: 'econv1_weight', 'econv1_bias', 'ebrnn1_0_i2h_weight', ..., 'ebrnn3_0_f_out_weight', 'ebrnn3_0_f_out_bias', 'ebrnn3_0_h2h_weight', 'ebrnn3_0_h2h_bias'. Please make sure source and target networks have the same prefix."
     ]
    }
   ],
   "source": [
    "encoder_param = '/home/ubuntu/gitrepo/CS230_Nowcasting/deep_learning_nowcasting/pretrained_model/encoder_net-99999.params'\n",
    "encoder_symbol = '/home/ubuntu/gitrepo/CS230_Nowcasting/deep_learning_nowcasting/pretrained_model/encoder_net-symbol.json'\n",
    "forecaster_param = '/home/ubuntu/gitrepo/CS230_Nowcasting/deep_learning_nowcasting/pretrained_model/forecaster_net-99999.params'\n",
    "forecaster_symbol = '/home/ubuntu/gitrepo/CS230_Nowcasting/deep_learning_nowcasting/pretrained_model/forecaster_net-symbol.json'\n",
    "\n",
    "# Step 1: Load the pre-trained model\n",
    "encoder = gluon.SymbolBlock.imports(encoder_symbol, ['data'], encoder_param)\n",
    "forecaster = gluon.SymbolBlock.imports(forecaster_symbol, ['data'], forecaster_param)"
   ]
  },
  {
   "cell_type": "code",
   "execution_count": 8,
   "metadata": {},
   "outputs": [
    {
     "name": "stdout",
     "output_type": "stream",
     "text": [
      "Looking in indexes: https://pypi.org/simple, https://pip.repos.neuron.amazonaws.com\n",
      "Requirement already satisfied: mxnet in /home/ubuntu/nowcasting/lib/python3.7/site-packages (1.5.1.post0)\n",
      "Requirement already satisfied: numpy<2.0.0,>1.16.0 in /home/ubuntu/nowcasting/lib/python3.7/site-packages (from mxnet) (1.21.6)\n",
      "Requirement already satisfied: requests<3,>=2.20.0 in /home/ubuntu/nowcasting/lib/python3.7/site-packages (from mxnet) (2.30.0)\n",
      "Requirement already satisfied: graphviz<0.9.0,>=0.8.1 in /home/ubuntu/nowcasting/lib/python3.7/site-packages (from mxnet) (0.8.4)\n",
      "Requirement already satisfied: charset-normalizer<4,>=2 in /home/ubuntu/nowcasting/lib/python3.7/site-packages (from requests<3,>=2.20.0->mxnet) (3.1.0)\n",
      "Requirement already satisfied: idna<4,>=2.5 in /home/ubuntu/nowcasting/lib/python3.7/site-packages (from requests<3,>=2.20.0->mxnet) (3.4)\n",
      "Requirement already satisfied: urllib3<3,>=1.21.1 in /home/ubuntu/nowcasting/lib/python3.7/site-packages (from requests<3,>=2.20.0->mxnet) (2.0.2)\n",
      "Requirement already satisfied: certifi>=2017.4.17 in /home/ubuntu/nowcasting/lib/python3.7/site-packages (from requests<3,>=2.20.0->mxnet) (2023.5.7)\n"
     ]
    }
   ],
   "source": [
    "! pip install mxnet"
   ]
  },
  {
   "cell_type": "code",
   "execution_count": null,
   "metadata": {},
   "outputs": [],
   "source": []
  },
  {
   "cell_type": "code",
   "execution_count": null,
   "metadata": {},
   "outputs": [],
   "source": []
  }
 ],
 "metadata": {
  "kernelspec": {
   "display_name": "cs230",
   "language": "python",
   "name": "python3"
  },
  "language_info": {
   "codemirror_mode": {
    "name": "ipython",
    "version": 3
   },
   "file_extension": ".py",
   "mimetype": "text/x-python",
   "name": "python",
   "nbconvert_exporter": "python",
   "pygments_lexer": "ipython3",
   "version": "3.7.10"
  },
  "orig_nbformat": 4
 },
 "nbformat": 4,
 "nbformat_minor": 2
}
