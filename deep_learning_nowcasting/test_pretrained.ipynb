{
 "cells": [
  {
   "cell_type": "code",
   "execution_count": 11,
   "metadata": {},
   "outputs": [
    {
     "name": "stdout",
     "output_type": "stream",
     "text": [
      "Defaulting to user installation because normal site-packages is not writeable\n",
      "Requirement already satisfied: numpy in /Users/mitty/Library/Python/3.9/lib/python/site-packages (1.24.3)\n"
     ]
    }
   ],
   "source": [
    "! pip3 install numpy"
   ]
  },
  {
   "cell_type": "code",
   "execution_count": 12,
   "metadata": {},
   "outputs": [
    {
     "ename": "ModuleNotFoundError",
     "evalue": "No module named 'numpy'",
     "output_type": "error",
     "traceback": [
      "\u001b[0;31m---------------------------------------------------------------------------\u001b[0m",
      "\u001b[0;31mModuleNotFoundError\u001b[0m                       Traceback (most recent call last)",
      "Cell \u001b[0;32mIn[12], line 1\u001b[0m\n\u001b[0;32m----> 1\u001b[0m \u001b[39mimport\u001b[39;00m \u001b[39mnumpy\u001b[39;00m \u001b[39mas\u001b[39;00m \u001b[39mnp\u001b[39;00m\n\u001b[1;32m      2\u001b[0m \u001b[39mimport\u001b[39;00m \u001b[39mmxnet\u001b[39;00m \u001b[39mas\u001b[39;00m \u001b[39mmx\u001b[39;00m\n\u001b[1;32m      3\u001b[0m \u001b[39mfrom\u001b[39;00m \u001b[39mmxnet\u001b[39;00m \u001b[39mimport\u001b[39;00m gluon\n",
      "\u001b[0;31mModuleNotFoundError\u001b[0m: No module named 'numpy'"
     ]
    }
   ],
   "source": [
    "import numpy as np\n",
    "import mxnet as mx\n",
    "from mxnet import gluon"
   ]
  },
  {
   "cell_type": "code",
   "execution_count": 7,
   "metadata": {},
   "outputs": [
    {
     "ename": "NameError",
     "evalue": "name 'gluon' is not defined",
     "output_type": "error",
     "traceback": [
      "\u001b[0;31m---------------------------------------------------------------------------\u001b[0m",
      "\u001b[0;31mNameError\u001b[0m                                 Traceback (most recent call last)",
      "Cell \u001b[0;32mIn[7], line 2\u001b[0m\n\u001b[1;32m      1\u001b[0m \u001b[39m# Step 1: Load the pre-trained model\u001b[39;00m\n\u001b[0;32m----> 2\u001b[0m pretrained_model \u001b[39m=\u001b[39m gluon\u001b[39m.\u001b[39mSymbolBlock\u001b[39m.\u001b[39mimports(\u001b[39m'\u001b[39m\u001b[39mpath/to/symbol.json\u001b[39m\u001b[39m'\u001b[39m, [\u001b[39m'\u001b[39m\u001b[39mdata\u001b[39m\u001b[39m'\u001b[39m], \u001b[39m'\u001b[39m\u001b[39mpath/to/pretrained.params\u001b[39m\u001b[39m'\u001b[39m)\n",
      "\u001b[0;31mNameError\u001b[0m: name 'gluon' is not defined"
     ]
    }
   ],
   "source": [
    "encoder_param = 'CS230_Nowcasting/deep_learning_nowcasting/pretrained_model/encoder_net-99999.params'\n",
    "encoder_symbol = 'CS230_Nowcasting/deep_learning_nowcasting/pretrained_model/encoder_net-symbol.json'\n",
    "forecaster_param = 'CS230_Nowcasting/deep_learning_nowcasting/pretrained_model/forecaster_net-99999.params'\n",
    "forecaster_symbol = 'CS230_Nowcasting/deep_learning_nowcasting/pretrained_model/forecaster_net-symbol.json'\n",
    "\n",
    "# Step 1: Load the pre-trained model\n",
    "encoder = gluon.SymbolBlock.imports('path/to/symbol.json', ['data'], '/Users/mitty/Desktop/23_Spring/CS230/Final Project/CS230_Nowcasting/deep_learning_nowcasting/pretrained_model/encoder_net-99999.params')\n",
    "decoder = gluon.SymbolBlock.imports('path/to/symbol.json', ['data'], 'path/to/pretrained.params')"
   ]
  },
  {
   "cell_type": "code",
   "execution_count": null,
   "metadata": {},
   "outputs": [],
   "source": []
  },
  {
   "cell_type": "code",
   "execution_count": null,
   "metadata": {},
   "outputs": [],
   "source": []
  },
  {
   "cell_type": "code",
   "execution_count": null,
   "metadata": {},
   "outputs": [],
   "source": []
  }
 ],
 "metadata": {
  "kernelspec": {
   "display_name": "cs230",
   "language": "python",
   "name": "python3"
  },
  "language_info": {
   "codemirror_mode": {
    "name": "ipython",
    "version": 3
   },
   "file_extension": ".py",
   "mimetype": "text/x-python",
   "name": "python",
   "nbconvert_exporter": "python",
   "pygments_lexer": "ipython3",
   "version": "3.9.6"
  },
  "orig_nbformat": 4
 },
 "nbformat": 4,
 "nbformat_minor": 2
}
